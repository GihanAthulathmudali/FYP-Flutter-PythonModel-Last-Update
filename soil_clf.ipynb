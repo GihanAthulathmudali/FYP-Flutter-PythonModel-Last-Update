{
 "cells": [
  {
   "cell_type": "code",
   "execution_count": 1,
   "id": "79f008b0-5f20-46a0-82e3-458f4d527dbf",
   "metadata": {},
   "outputs": [],
   "source": [
    "from tensorflow.keras.preprocessing import image\n",
    "from tensorflow.keras.models import Sequential\n",
    "from tensorflow.keras.layers import Conv2D, MaxPooling2D, Flatten, Dense\n",
    "from tensorflow.keras.optimizers import Adam\n",
    "import matplotlib.pyplot as plt\n",
    "import numpy as np\n",
    "import os"
   ]
  },
  {
   "cell_type": "code",
   "execution_count": 2,
   "id": "3f9cdf17-a9bd-4d99-8849-b85f7dbfec2f",
   "metadata": {},
   "outputs": [
    {
     "name": "stdout",
     "output_type": "stream",
     "text": [
      "Found 300 images belonging to 5 classes.\n",
      "Found 50 images belonging to 5 classes.\n"
     ]
    },
    {
     "name": "stdout",
     "output_type": "stream",
     "text": [
      "Found 50 images belonging to 5 classes.\n"
     ]
    }
   ],
   "source": [
    "train_data_dir = \"soil_img/train\"\n",
    "validation_data_dir = \"soil_img/validation\"\n",
    "test_data_dir = \"soil_img/test\"\n",
    "\n",
    "train_datagen = image.ImageDataGenerator(rescale=1./255)\n",
    "train_generator = train_datagen.flow_from_directory(\n",
    "    train_data_dir,\n",
    "    target_size=(150,150),\n",
    "    class_mode=\"categorical\"\n",
    ")\n",
    "\n",
    "validation_datagen = image.ImageDataGenerator(rescale=1./255)\n",
    "validation_generator = validation_datagen.flow_from_directory(\n",
    "    validation_data_dir,\n",
    "    target_size=(150,150),\n",
    "    class_mode=\"categorical\"\n",
    ")\n",
    "\n",
    "test_datagen = image.ImageDataGenerator(rescale=1./255)\n",
    "test_generator = test_datagen.flow_from_directory(\n",
    "    test_data_dir,\n",
    "    target_size=(150,150),\n",
    "    class_mode=\"categorical\"\n",
    ")"
   ]
  },
  {
   "cell_type": "code",
   "execution_count": 3,
   "id": "2952cf3f-233a-4d25-b1fd-09ac0d4518ad",
   "metadata": {},
   "outputs": [],
   "source": [
    "model = Sequential()\n",
    "model.add(Conv2D(32, (3,3), activation='relu', input_shape=(150,150,3)))\n",
    "model.add(MaxPooling2D(2,2))\n",
    "model.add(Conv2D(64, (3,3), activation='relu'))\n",
    "model.add(MaxPooling2D(2,2))\n",
    "model.add(Conv2D(128, (3,3), activation='relu'))\n",
    "model.add(MaxPooling2D(2,2))\n",
    "model.add(Flatten())\n",
    "model.add(Dense(128, activation='relu'))\n",
    "model.add(Dense(5, activation='softmax'))"
   ]
  },
  {
   "cell_type": "code",
   "execution_count": 4,
   "id": "3534da80-57d6-4c71-bc6f-4aa4f739b9fd",
   "metadata": {},
   "outputs": [],
   "source": [
    "optimizer = Adam(learning_rate=0.001)\n",
    "model.compile(optimizer=optimizer, loss=\"categorical_crossentropy\", metrics=[\"accuracy\"])"
   ]
  },
  {
   "cell_type": "code",
   "execution_count": 5,
   "id": "0ca87346-ed92-4b99-865d-507d81127e49",
   "metadata": {},
   "outputs": [
    {
     "name": "stdout",
     "output_type": "stream",
     "text": [
      "Epoch 1/20\n",
      "10/10 [==============================] - 11s 982ms/step - loss: 1.6234 - accuracy: 0.3633 - val_loss: 1.1760 - val_accuracy: 0.4800\n",
      "Epoch 2/20\n",
      "10/10 [==============================] - 11s 1s/step - loss: 1.0101 - accuracy: 0.5233 - val_loss: 1.1550 - val_accuracy: 0.4600\n",
      "Epoch 3/20\n",
      "10/10 [==============================] - 10s 998ms/step - loss: 0.9143 - accuracy: 0.5967 - val_loss: 0.7190 - val_accuracy: 0.7400\n",
      "Epoch 4/20\n",
      "10/10 [==============================] - 10s 996ms/step - loss: 0.7117 - accuracy: 0.7267 - val_loss: 0.6362 - val_accuracy: 0.7200\n",
      "Epoch 5/20\n",
      "10/10 [==============================] - 8s 733ms/step - loss: 0.6184 - accuracy: 0.7600 - val_loss: 0.8277 - val_accuracy: 0.6600\n",
      "Epoch 6/20\n",
      "10/10 [==============================] - 7s 659ms/step - loss: 0.5726 - accuracy: 0.7833 - val_loss: 0.5124 - val_accuracy: 0.8400\n",
      "Epoch 7/20\n",
      "10/10 [==============================] - 8s 827ms/step - loss: 0.4289 - accuracy: 0.8467 - val_loss: 0.5287 - val_accuracy: 0.8000\n",
      "Epoch 8/20\n",
      "10/10 [==============================] - 11s 1s/step - loss: 0.4384 - accuracy: 0.8300 - val_loss: 0.4215 - val_accuracy: 0.8000\n",
      "Epoch 9/20\n",
      "10/10 [==============================] - 10s 947ms/step - loss: 0.3677 - accuracy: 0.8433 - val_loss: 0.3919 - val_accuracy: 0.8400\n",
      "Epoch 10/20\n",
      "10/10 [==============================] - 10s 966ms/step - loss: 0.2800 - accuracy: 0.8933 - val_loss: 0.4538 - val_accuracy: 0.8400\n",
      "Epoch 11/20\n",
      "10/10 [==============================] - 9s 851ms/step - loss: 0.2946 - accuracy: 0.8733 - val_loss: 0.3477 - val_accuracy: 0.8600\n",
      "Epoch 12/20\n",
      "10/10 [==============================] - 10s 981ms/step - loss: 0.2491 - accuracy: 0.8933 - val_loss: 0.3114 - val_accuracy: 0.8800\n",
      "Epoch 13/20\n",
      "10/10 [==============================] - 11s 1s/step - loss: 0.2189 - accuracy: 0.9133 - val_loss: 0.3466 - val_accuracy: 0.8800\n",
      "Epoch 14/20\n",
      "10/10 [==============================] - 10s 977ms/step - loss: 0.1760 - accuracy: 0.9400 - val_loss: 0.3724 - val_accuracy: 0.8600\n",
      "Epoch 15/20\n",
      "10/10 [==============================] - 10s 958ms/step - loss: 0.1762 - accuracy: 0.9333 - val_loss: 0.3034 - val_accuracy: 0.8600\n",
      "Epoch 16/20\n",
      "10/10 [==============================] - 7s 704ms/step - loss: 0.1508 - accuracy: 0.9467 - val_loss: 0.3472 - val_accuracy: 0.8600\n",
      "Epoch 17/20\n",
      "10/10 [==============================] - 8s 822ms/step - loss: 0.1256 - accuracy: 0.9600 - val_loss: 0.5975 - val_accuracy: 0.7800\n",
      "Epoch 18/20\n",
      "10/10 [==============================] - 7s 712ms/step - loss: 0.1122 - accuracy: 0.9600 - val_loss: 0.4736 - val_accuracy: 0.8800\n",
      "Epoch 19/20\n",
      "10/10 [==============================] - 7s 701ms/step - loss: 0.0874 - accuracy: 0.9700 - val_loss: 0.5075 - val_accuracy: 0.8600\n",
      "Epoch 20/20\n",
      "10/10 [==============================] - 8s 749ms/step - loss: 0.1112 - accuracy: 0.9667 - val_loss: 0.4088 - val_accuracy: 0.9000\n"
     ]
    }
   ],
   "source": [
    "history = model.fit(train_generator, epochs=20, validation_data=validation_generator)"
   ]
  },
  {
   "cell_type": "code",
   "execution_count": 6,
   "id": "a5aa86e5-ea17-4bc3-95df-36065280573a",
   "metadata": {},
   "outputs": [
    {
     "data": {
      "image/png": "[encoded data removed]",
      "text/plain": [
       "<Figure size 640x480 with 1 Axes>"
      ]
     },
     "metadata": {},
     "output_type": "display_data"
    }
   ],
   "source": [
    "plt.plot(history.history[\"accuracy\"], label=\"Training Accuracy\")\n",
    "plt.plot(history.history[\"val_accuracy\"], label=\"Validation Accuracy\")\n",
    "plt.legend()\n",
    "plt.show()"
   ]
  },
  {
   "cell_type": "code",
   "execution_count": 7,
   "id": "4f629c30-1d95-4833-a1f8-7057f314620c",
   "metadata": {},
   "outputs": [
    {
     "name": "stdout",
     "output_type": "stream",
     "text": [
      "2/2 [==============================] - 0s 65ms/step - loss: 1.5299 - accuracy: 0.7200\n"
     ]
    }
   ],
   "source": [
    "pred = model.evaluate(test_generator)"
   ]
  },
  {
   "cell_type": "code",
   "execution_count": 8,
   "id": "cc8b1ce8-0263-40f4-ae7e-d12926d09ff2",
   "metadata": {},
   "outputs": [],
   "source": [
    "model.save_weights(\"model_weights.h5\")"
   ]
  },
  {
   "cell_type": "code",
   "execution_count": 9,
   "id": "5a92c364",
   "metadata": {},
   "outputs": [],
   "source": [
    "import tensorflow as tf"
   ]
  },
  {
   "cell_type": "code",
   "execution_count": 10,
   "id": "040590f6-655a-4dc1-86ba-f46d15864af1",
   "metadata": {},
   "outputs": [
    {
     "name": "stdout",
     "output_type": "stream",
     "text": [
      "INFO:tensorflow:Assets written to: C:\\Users\\user\\AppData\\Local\\Temp\\tmpj7vj6tx2\\assets\n"
     ]
    },
    {
     "name": "stderr",
     "output_type": "stream",
     "text": [
      "INFO:tensorflow:Assets written to: C:\\Users\\user\\AppData\\Local\\Temp\\tmpj7vj6tx2\\assets\n"
     ]
    }
   ],
   "source": [
    "converter = tf.lite.TFLiteConverter.from_keras_model(model)\n",
    "tflite_model = converter.convert()"
   ]
  },
  {
   "cell_type": "code",
   "execution_count": 11,
   "id": "224d46bc",
   "metadata": {},
   "outputs": [],
   "source": [
    "with open('soil_clf_model.tflite', 'wb') as f:\n",
    "    f.write(tflite_model)"
   ]
  },
  {
   "cell_type": "code",
   "execution_count": 12,
   "id": "e7e36948",
   "metadata": {},
   "outputs": [],
   "source": [
    "# testing\n",
    "test_img = image.load_img('Black.jpg', target_size=(150,150))\n",
    "test_img_array = image.img_to_array(test_img)\n",
    "test_img_array = np.expand_dims(test_img_array, axis=0)\n",
    "test_img_array /= 255.0"
   ]
  },
  {
   "cell_type": "code",
   "execution_count": 13,
   "id": "79f74c80",
   "metadata": {},
   "outputs": [
    {
     "name": "stdout",
     "output_type": "stream",
     "text": [
      "1/1 [==============================] - 0s 89ms/step\n",
      "Prediction: [[4.2511521e-05 9.9995744e-01 9.3715813e-11 6.0801708e-10 1.9371850e-10]]\n",
      "Predicted Class: black\n",
      "Confidence Score:  100.00%\n"
     ]
    }
   ],
   "source": [
    "prediction = model.predict(test_img_array)\n",
    "print(f'Prediction: {prediction}')\n",
    "\n",
    "predicted_class_index = np.argmax(prediction)\n",
    "class_labels = ['alluvial', 'black', 'clay', 'red', 'reddish_brown_earth']\n",
    "predicted_class_label = class_labels[predicted_class_index]\n",
    "confidence_score = prediction[0, predicted_class_index]\n",
    "\n",
    "print(f'Predicted Class: {predicted_class_label}')\n",
    "print(f'Confidence Score: {confidence_score * 100: .2f}%')"
   ]
  },
  {
   "cell_type": "code",
   "execution_count": null,
   "id": "01b2dfeb",
   "metadata": {},
   "outputs": [],
   "source": [
    "from pyngrok import ngrok\n",
    "from flask import Flask, request, jsonify\n",
    "from tensorflow.keras.preprocessing import image\n",
    "import numpy as np\n",
    "import base64\n",
    "from PIL import Image\n",
    "from io import BytesIO\n",
    "import pickle\n",
    "import requests\n",
    "from tensorflow.keras.models import load_model\n",
    "\n",
    "port_no = 5000\n",
    "\n",
    "app = Flask(__name__)\n",
    "\n",
    "ngrok.set_auth_token(\"2eJF9pgAY9p1YXdK60BumXhpbkM_7V88y5BngqyVx3KFv18dN\")\n",
    "public_url = ngrok.connect(port_no).public_url\n",
    "# URL of the Flask server\n",
    "flask_url = 'https://foodappbackend.jaffnamarriage.com/public/api/receive-url'\n",
    "# Send POST request to the Flask server\n",
    "response = requests.post(flask_url, data={'url': public_url})\n",
    "# Define the file path to save/load the model\n",
    "MODEL_FILE_PATH = 'model_weights.h5'\n",
    "\n",
    "# Define a route to receive image and make predictions\n",
    "@app.route('/getresponse', methods=['POST'])\n",
    "def predict():\n",
    "    # Check if the request contains JSON data\n",
    "    if not request.is_json:\n",
    "        return jsonify({'error': 'Request must be JSON'}), 400\n",
    "\n",
    "    # Extract the JSON data from the request\n",
    "    data = request.json\n",
    "\n",
    "    # Check if the 'image' key is present in the JSON data\n",
    "    if 'image' not in data:\n",
    "        return jsonify({'error': 'No image data found'}), 400\n",
    "\n",
    "    # Decode the Base64 encoded image data\n",
    "    encoded_image = data['image']\n",
    "    try:\n",
    "        decoded_image = base64.b64decode(encoded_image)\n",
    "    except Exception as e:\n",
    "        return jsonify({'error': 'Invalid Base64 encoding'}), 400\n",
    "\n",
    "    # Convert the decoded image data to PIL Image object\n",
    "    try:\n",
    "        img = Image.open(BytesIO(decoded_image))\n",
    "    except Exception as e:\n",
    "        return jsonify({'error': 'Unable to process image data'}), 400\n",
    "\n",
    "    # Preprocess the image\n",
    "    # img = img.resize((150, 150))\n",
    "    img_array = image.img_to_array(img)\n",
    "    img_array = np.expand_dims(img_array, axis=0)\n",
    "    img_array /= 255.0\n",
    "\n",
    "    model = load_model(MODEL_FILE_PATH)\n",
    "\n",
    "\n",
    "    # Make predictions\n",
    "    prediction = model.predict(img_array)\n",
    "\n",
    "    # Process the prediction results\n",
    "    predicted_class_index = np.argmax(prediction)\n",
    "    class_labels = ['Alluvial soil', 'black soil', 'clay soil', 'red soil', 'Reddish Brown Earths soil']\n",
    "    predicted_class_label = class_labels[predicted_class_index]\n",
    "    confidence_score = float(prediction[0, predicted_class_index])\n",
    "\n",
    "    return jsonify({\n",
    "        'predicted_class': predicted_class_label,\n",
    "        'confidence_score': confidence_score\n",
    "    })\n",
    "print(f\"url: {public_url}\")\n",
    "if __name__ == '__main__':\n",
    "    app.run( port=port_no)"
   ]
  }
 ],
 "metadata": {
  "kernelspec": {
   "display_name": "Python 3 (ipykernel)",
   "language": "python",
   "name": "python3"
  },
  "language_info": {
   "codemirror_mode": {
    "name": "ipython",
    "version": 3
   },
   "file_extension": ".py",
   "mimetype": "text/x-python",
   "name": "python",
   "nbconvert_exporter": "python",
   "pygments_lexer": "ipython3",
   "version": "3.12.0"
  }
 },
 "nbformat": 4,
 "nbformat_minor": 5
}
